{
 "cells": [
  {
   "cell_type": "markdown",
   "metadata": {},
   "source": [
    "# Import gym"
   ]
  },
  {
   "cell_type": "code",
   "execution_count": 4,
   "metadata": {},
   "outputs": [],
   "source": [
    "# gym is a toolkit for making reinforcement learning easier\n",
    "import gym\n",
    "from sklearn.neural_network import MLPClassifier"
   ]
  },
  {
   "cell_type": "markdown",
   "metadata": {},
   "source": [
    "# Create the environment"
   ]
  },
  {
   "cell_type": "code",
   "execution_count": 5,
   "metadata": {},
   "outputs": [],
   "source": [
    "# Choose the environment, track racing, robot walking....\n",
    "env = gym.make('CarRacing-v0')"
   ]
  },
  {
   "cell_type": "markdown",
   "metadata": {},
   "source": [
    "# Simulate, learn\n",
    "\n",
    "* Your code here to replace the section in red and 4 lines below"
   ]
  },
  {
   "cell_type": "code",
   "execution_count": null,
   "metadata": {},
   "outputs": [],
   "source": [
    "model = Q_Learning(20, 512, gamma=, lr=)"
   ]
  },
  {
   "cell_type": "code",
   "execution_count": null,
   "metadata": {},
   "outputs": [],
   "source": [
    "actions = {\n",
    "    0: [-.9,  0, 0],\n",
    "    1: [-.45, 0, 0],\n",
    "    2: [0,    0, 0],\n",
    "    3: [.45,  0, 0],\n",
    "    4: [.9,   0, 0],\n",
    "    5: [-.9, .5,.1],\n",
    "    6: [-.45,.5,.1],\n",
    "    7: [0,   .5,.1],\n",
    "    8: [.45, .5,.1],\n",
    "    9: [.9,  .5,.1],\n",
    "    10:[-.9, .7,.1],\n",
    "    11:[-.45,.7,.1],\n",
    "    12:[0,   .7,.1],\n",
    "    13:[.45, .7,.1],\n",
    "    14:[.9,  .7,.1],\n",
    "    15:[-.9,  0,.3],\n",
    "    16:[-.45, 0,.3],\n",
    "    17:[0,    0,.3],\n",
    "    18:[.45,  0,.3],\n",
    "    19:[.9,   0,.3]\n",
    "}"
   ]
  },
  {
   "cell_type": "code",
   "execution_count": 154,
   "metadata": {},
   "outputs": [],
   "source": [
    "def to_num(obs):\n",
    "    rav = obs.ravel()\n",
    "    res = 0\n",
    "    for i in range(len(rav)):\n",
    "        res = res + rav[i] * 2**i\n",
    "    return res"
   ]
  },
  {
   "cell_type": "code",
   "execution_count": 155,
   "metadata": {},
   "outputs": [
    {
     "data": {
      "text/plain": [
       "array([1, 0, 0, 1, 0, 0, 1, 0, 0])"
      ]
     },
     "execution_count": 155,
     "metadata": {},
     "output_type": "execute_result"
    }
   ],
   "source": [
    "binarize(observation).ravel()"
   ]
  },
  {
   "cell_type": "code",
   "execution_count": 156,
   "metadata": {},
   "outputs": [
    {
     "data": {
      "text/plain": [
       "73"
      ]
     },
     "execution_count": 156,
     "metadata": {},
     "output_type": "execute_result"
    }
   ],
   "source": [
    "to_num(binarize(observation))"
   ]
  },
  {
   "cell_type": "code",
   "execution_count": 7,
   "metadata": {},
   "outputs": [
    {
     "name": "stdout",
     "output_type": "stream",
     "text": [
      "Track generation: 1181..1481 -> 300-tiles track\n",
      "Observation:  (96, 96, 3) Reward:  6.5889632107023415 Done?:  False\n",
      "Observation:  (96, 96, 3) Reward:  -0.09999999999999964 Done?:  False\n",
      "Observation:  (96, 96, 3) Reward:  -0.09999999999999964 Done?:  False\n",
      "Observation:  (96, 96, 3) Reward:  -0.09999999999999964 Done?:  False\n",
      "Observation:  (96, 96, 3) Reward:  -0.09999999999999964 Done?:  False\n",
      "Observation:  (96, 96, 3) Reward:  -0.09999999999999964 Done?:  False\n",
      "Observation:  (96, 96, 3) Reward:  -0.09999999999999964 Done?:  False\n",
      "Observation:  (96, 96, 3) Reward:  -0.09999999999999964 Done?:  False\n",
      "Observation:  (96, 96, 3) Reward:  -0.09999999999999964 Done?:  False\n",
      "Observation:  (96, 96, 3) Reward:  -0.09999999999999964 Done?:  False\n",
      "Observation:  (96, 96, 3) Reward:  -0.09999999999999964 Done?:  False\n",
      "Observation:  (96, 96, 3) Reward:  -0.09999999999999964 Done?:  False\n",
      "Observation:  (96, 96, 3) Reward:  -0.09999999999999964 Done?:  False\n",
      "Observation:  (96, 96, 3) Reward:  3.2444816053511714 Done?:  False\n",
      "Observation:  (96, 96, 3) Reward:  -0.09999999999999964 Done?:  False\n",
      "Observation:  (96, 96, 3) Reward:  -0.09999999999999964 Done?:  False\n",
      "Observation:  (96, 96, 3) Reward:  -0.09999999999999964 Done?:  False\n",
      "Observation:  (96, 96, 3) Reward:  -0.09999999999999964 Done?:  False\n",
      "Observation:  (96, 96, 3) Reward:  -0.09999999999999964 Done?:  False\n",
      "Observation:  (96, 96, 3) Reward:  -0.09999999999999964 Done?:  False\n",
      "Observation:  (96, 96, 3) Reward:  -0.09999999999999964 Done?:  False\n",
      "Observation:  (96, 96, 3) Reward:  -0.09999999999999964 Done?:  False\n",
      "Observation:  (96, 96, 3) Reward:  -0.09999999999999964 Done?:  False\n",
      "Observation:  (96, 96, 3) Reward:  -0.09999999999999964 Done?:  False\n",
      "Observation:  (96, 96, 3) Reward:  -0.09999999999999964 Done?:  False\n",
      "Observation:  (96, 96, 3) Reward:  -0.09999999999999964 Done?:  False\n",
      "Observation:  (96, 96, 3) Reward:  -0.09999999999999964 Done?:  False\n",
      "Observation:  (96, 96, 3) Reward:  -0.09999999999999964 Done?:  False\n",
      "Observation:  (96, 96, 3) Reward:  -0.09999999999999964 Done?:  False\n",
      "Observation:  (96, 96, 3) Reward:  3.2444816053511705 Done?:  False\n",
      "Observation:  (96, 96, 3) Reward:  -0.09999999999999964 Done?:  False\n",
      "Observation:  (96, 96, 3) Reward:  -0.09999999999999964 Done?:  False\n",
      "Observation:  (96, 96, 3) Reward:  -0.09999999999999964 Done?:  False\n",
      "Observation:  (96, 96, 3) Reward:  -0.09999999999999964 Done?:  False\n",
      "Observation:  (96, 96, 3) Reward:  -0.09999999999999964 Done?:  False\n",
      "Observation:  (96, 96, 3) Reward:  -0.09999999999999964 Done?:  False\n",
      "Observation:  (96, 96, 3) Reward:  -0.09999999999999964 Done?:  False\n",
      "Observation:  (96, 96, 3) Reward:  -0.09999999999999964 Done?:  False\n",
      "Observation:  (96, 96, 3) Reward:  -0.09999999999999964 Done?:  False\n",
      "Observation:  (96, 96, 3) Reward:  3.2444816053511705 Done?:  False\n",
      "Observation:  (96, 96, 3) Reward:  -0.09999999999999964 Done?:  False\n",
      "Observation:  (96, 96, 3) Reward:  -0.09999999999999964 Done?:  False\n",
      "Observation:  (96, 96, 3) Reward:  -0.09999999999999964 Done?:  False\n",
      "Observation:  (96, 96, 3) Reward:  -0.09999999999999964 Done?:  False\n",
      "Observation:  (96, 96, 3) Reward:  -0.09999999999999964 Done?:  False\n",
      "Observation:  (96, 96, 3) Reward:  -0.09999999999999964 Done?:  False\n",
      "Observation:  (96, 96, 3) Reward:  -0.09999999999999964 Done?:  False\n",
      "Observation:  (96, 96, 3) Reward:  -0.09999999999999964 Done?:  False\n",
      "Observation:  (96, 96, 3) Reward:  3.2444816053511705 Done?:  False\n",
      "Observation:  (96, 96, 3) Reward:  -0.09999999999999964 Done?:  False\n",
      "Observation:  (96, 96, 3) Reward:  -0.09999999999999964 Done?:  False\n",
      "Observation:  (96, 96, 3) Reward:  -0.09999999999999964 Done?:  False\n",
      "Observation:  (96, 96, 3) Reward:  -0.09999999999999964 Done?:  False\n",
      "Observation:  (96, 96, 3) Reward:  -0.09999999999999964 Done?:  False\n",
      "Observation:  (96, 96, 3) Reward:  -0.09999999999999964 Done?:  False\n",
      "Observation:  (96, 96, 3) Reward:  -0.09999999999999964 Done?:  False\n",
      "Observation:  (96, 96, 3) Reward:  3.2444816053511705 Done?:  False\n",
      "Observation:  (96, 96, 3) Reward:  -0.10000000000000142 Done?:  False\n",
      "Observation:  (96, 96, 3) Reward:  -0.10000000000000142 Done?:  False\n",
      "Observation:  (96, 96, 3) Reward:  -0.10000000000000142 Done?:  False\n",
      "Observation:  (96, 96, 3) Reward:  -0.10000000000000142 Done?:  False\n",
      "Observation:  (96, 96, 3) Reward:  -0.10000000000000142 Done?:  False\n",
      "Observation:  (96, 96, 3) Reward:  -0.10000000000000142 Done?:  False\n",
      "Observation:  (96, 96, 3) Reward:  3.2444816053511687 Done?:  False\n",
      "Observation:  (96, 96, 3) Reward:  -0.10000000000000142 Done?:  False\n",
      "Observation:  (96, 96, 3) Reward:  -0.10000000000000142 Done?:  False\n",
      "Observation:  (96, 96, 3) Reward:  -0.10000000000000142 Done?:  False\n",
      "Observation:  (96, 96, 3) Reward:  -0.10000000000000142 Done?:  False\n",
      "Observation:  (96, 96, 3) Reward:  -0.10000000000000142 Done?:  False\n",
      "Observation:  (96, 96, 3) Reward:  3.2444816053511687 Done?:  False\n",
      "Observation:  (96, 96, 3) Reward:  -0.10000000000000142 Done?:  False\n",
      "Observation:  (96, 96, 3) Reward:  -0.10000000000000142 Done?:  False\n",
      "Observation:  (96, 96, 3) Reward:  -0.10000000000000142 Done?:  False\n",
      "Observation:  (96, 96, 3) Reward:  -0.10000000000000142 Done?:  False\n",
      "Observation:  (96, 96, 3) Reward:  -0.10000000000000142 Done?:  False\n",
      "Observation:  (96, 96, 3) Reward:  3.2444816053511687 Done?:  False\n",
      "Observation:  (96, 96, 3) Reward:  -0.10000000000000142 Done?:  False\n",
      "Observation:  (96, 96, 3) Reward:  -0.10000000000000142 Done?:  False\n",
      "Observation:  (96, 96, 3) Reward:  -0.10000000000000142 Done?:  False\n",
      "Observation:  (96, 96, 3) Reward:  -0.10000000000000142 Done?:  False\n",
      "Observation:  (96, 96, 3) Reward:  -0.10000000000000142 Done?:  False\n",
      "Observation:  (96, 96, 3) Reward:  3.2444816053511687 Done?:  False\n",
      "Observation:  (96, 96, 3) Reward:  -0.10000000000000142 Done?:  False\n",
      "Observation:  (96, 96, 3) Reward:  -0.10000000000000142 Done?:  False\n",
      "Observation:  (96, 96, 3) Reward:  -0.10000000000000142 Done?:  False\n",
      "Observation:  (96, 96, 3) Reward:  -0.10000000000000142 Done?:  False\n",
      "Observation:  (96, 96, 3) Reward:  3.2444816053511687 Done?:  False\n",
      "Observation:  (96, 96, 3) Reward:  -0.10000000000000142 Done?:  False\n",
      "Observation:  (96, 96, 3) Reward:  -0.10000000000000142 Done?:  False\n",
      "Observation:  (96, 96, 3) Reward:  -0.10000000000000142 Done?:  False\n",
      "Observation:  (96, 96, 3) Reward:  -0.10000000000000142 Done?:  False\n",
      "Observation:  (96, 96, 3) Reward:  -0.10000000000000142 Done?:  False\n",
      "Observation:  (96, 96, 3) Reward:  3.2444816053511722 Done?:  False\n",
      "Observation:  (96, 96, 3) Reward:  -0.10000000000000142 Done?:  False\n",
      "Observation:  (96, 96, 3) Reward:  -0.10000000000000142 Done?:  False\n",
      "Observation:  (96, 96, 3) Reward:  -0.10000000000000142 Done?:  False\n",
      "Observation:  (96, 96, 3) Reward:  -0.10000000000000142 Done?:  False\n",
      "Observation:  (96, 96, 3) Reward:  3.2444816053511687 Done?:  False\n",
      "Observation:  (96, 96, 3) Reward:  -0.10000000000000142 Done?:  False\n",
      "Observation:  (96, 96, 3) Reward:  -0.10000000000000142 Done?:  False\n",
      "Observation:  (96, 96, 3) Reward:  -0.10000000000000142 Done?:  False\n",
      "Observation:  (96, 96, 3) Reward:  -0.10000000000000142 Done?:  False\n",
      "Observation:  (96, 96, 3) Reward:  -0.10000000000000142 Done?:  False\n",
      "Observation:  (96, 96, 3) Reward:  3.2444816053511687 Done?:  False\n",
      "Observation:  (96, 96, 3) Reward:  -0.10000000000000142 Done?:  False\n",
      "Observation:  (96, 96, 3) Reward:  -0.10000000000000142 Done?:  False\n",
      "Observation:  (96, 96, 3) Reward:  -0.10000000000000142 Done?:  False\n",
      "Observation:  (96, 96, 3) Reward:  -0.10000000000000142 Done?:  False\n",
      "Observation:  (96, 96, 3) Reward:  3.2444816053511687 Done?:  False\n",
      "Observation:  (96, 96, 3) Reward:  -0.10000000000000142 Done?:  False\n",
      "Observation:  (96, 96, 3) Reward:  -0.10000000000000142 Done?:  False\n",
      "Observation:  (96, 96, 3) Reward:  -0.10000000000000142 Done?:  False\n",
      "Observation:  (96, 96, 3) Reward:  -0.10000000000000142 Done?:  False\n",
      "Observation:  (96, 96, 3) Reward:  3.2444816053511687 Done?:  False\n",
      "Observation:  (96, 96, 3) Reward:  -0.10000000000000142 Done?:  False\n",
      "Observation:  (96, 96, 3) Reward:  -0.10000000000000142 Done?:  False\n",
      "Observation:  (96, 96, 3) Reward:  -0.10000000000000142 Done?:  False\n",
      "Observation:  (96, 96, 3) Reward:  -0.10000000000000142 Done?:  False\n",
      "Observation:  (96, 96, 3) Reward:  3.2444816053511687 Done?:  False\n",
      "Observation:  (96, 96, 3) Reward:  -0.10000000000000142 Done?:  False\n"
     ]
    },
    {
     "name": "stdout",
     "output_type": "stream",
     "text": [
      "Observation:  (96, 96, 3) Reward:  -0.10000000000000142 Done?:  False\n",
      "Observation:  (96, 96, 3) Reward:  -0.10000000000000142 Done?:  False\n",
      "Observation:  (96, 96, 3) Reward:  3.2444816053511687 Done?:  False\n",
      "Observation:  (96, 96, 3) Reward:  -0.10000000000000142 Done?:  False\n",
      "Observation:  (96, 96, 3) Reward:  -0.10000000000000142 Done?:  False\n",
      "Observation:  (96, 96, 3) Reward:  -0.10000000000000142 Done?:  False\n",
      "Observation:  (96, 96, 3) Reward:  -0.10000000000000142 Done?:  False\n",
      "Observation:  (96, 96, 3) Reward:  -0.10000000000000142 Done?:  False\n",
      "Observation:  (96, 96, 3) Reward:  3.2444816053511687 Done?:  False\n",
      "Observation:  (96, 96, 3) Reward:  -0.10000000000000142 Done?:  False\n",
      "Observation:  (96, 96, 3) Reward:  -0.10000000000000142 Done?:  False\n",
      "Observation:  (96, 96, 3) Reward:  -0.10000000000000142 Done?:  False\n",
      "Observation:  (96, 96, 3) Reward:  -0.10000000000000142 Done?:  False\n",
      "Observation:  (96, 96, 3) Reward:  -0.10000000000000142 Done?:  False\n",
      "Observation:  (96, 96, 3) Reward:  3.2444816053511687 Done?:  False\n",
      "Observation:  (96, 96, 3) Reward:  -0.10000000000000142 Done?:  False\n",
      "Observation:  (96, 96, 3) Reward:  -0.10000000000000142 Done?:  False\n",
      "Observation:  (96, 96, 3) Reward:  -0.10000000000000142 Done?:  False\n",
      "Observation:  (96, 96, 3) Reward:  -0.10000000000000142 Done?:  False\n",
      "Observation:  (96, 96, 3) Reward:  -0.10000000000000142 Done?:  False\n",
      "Observation:  (96, 96, 3) Reward:  3.2444816053511687 Done?:  False\n",
      "Observation:  (96, 96, 3) Reward:  -0.10000000000000142 Done?:  False\n",
      "Observation:  (96, 96, 3) Reward:  -0.10000000000000142 Done?:  False\n",
      "Observation:  (96, 96, 3) Reward:  -0.10000000000000142 Done?:  False\n",
      "Observation:  (96, 96, 3) Reward:  -0.10000000000000142 Done?:  False\n",
      "Observation:  (96, 96, 3) Reward:  -0.10000000000000142 Done?:  False\n",
      "Observation:  (96, 96, 3) Reward:  3.2444816053511687 Done?:  False\n",
      "Observation:  (96, 96, 3) Reward:  -0.10000000000000142 Done?:  False\n",
      "Observation:  (96, 96, 3) Reward:  -0.10000000000000142 Done?:  False\n",
      "Observation:  (96, 96, 3) Reward:  -0.10000000000000142 Done?:  False\n",
      "Observation:  (96, 96, 3) Reward:  -0.10000000000000142 Done?:  False\n",
      "Observation:  (96, 96, 3) Reward:  3.244481605351176 Done?:  False\n",
      "Observation:  (96, 96, 3) Reward:  -0.09999999999999432 Done?:  False\n",
      "Observation:  (96, 96, 3) Reward:  -0.09999999999999432 Done?:  False\n",
      "Observation:  (96, 96, 3) Reward:  -0.09999999999999432 Done?:  False\n",
      "Observation:  (96, 96, 3) Reward:  -0.09999999999999432 Done?:  False\n",
      "Observation:  (96, 96, 3) Reward:  3.244481605351183 Done?:  False\n",
      "Observation:  (96, 96, 3) Reward:  -0.09999999999999432 Done?:  False\n",
      "Observation:  (96, 96, 3) Reward:  -0.09999999999999432 Done?:  False\n",
      "Observation:  (96, 96, 3) Reward:  -0.09999999999999432 Done?:  False\n",
      "Observation:  (96, 96, 3) Reward:  -0.09999999999999432 Done?:  False\n",
      "Observation:  (96, 96, 3) Reward:  3.244481605351183 Done?:  False\n",
      "Observation:  (96, 96, 3) Reward:  -0.09999999999999432 Done?:  False\n",
      "Observation:  (96, 96, 3) Reward:  -0.09999999999999432 Done?:  False\n",
      "Observation:  (96, 96, 3) Reward:  -0.09999999999999432 Done?:  False\n",
      "Observation:  (96, 96, 3) Reward:  -0.09999999999999432 Done?:  False\n",
      "Observation:  (96, 96, 3) Reward:  3.244481605351183 Done?:  False\n",
      "Observation:  (96, 96, 3) Reward:  -0.09999999999999432 Done?:  False\n",
      "Observation:  (96, 96, 3) Reward:  -0.09999999999999432 Done?:  False\n",
      "Observation:  (96, 96, 3) Reward:  -0.09999999999999432 Done?:  False\n",
      "Observation:  (96, 96, 3) Reward:  -0.09999999999999432 Done?:  False\n",
      "Observation:  (96, 96, 3) Reward:  3.244481605351183 Done?:  False\n",
      "Observation:  (96, 96, 3) Reward:  -0.09999999999999432 Done?:  False\n",
      "Observation:  (96, 96, 3) Reward:  -0.09999999999999432 Done?:  False\n",
      "Observation:  (96, 96, 3) Reward:  -0.09999999999999432 Done?:  False\n",
      "Observation:  (96, 96, 3) Reward:  -0.09999999999999432 Done?:  False\n",
      "Observation:  (96, 96, 3) Reward:  3.244481605351183 Done?:  False\n",
      "Observation:  (96, 96, 3) Reward:  -0.09999999999999432 Done?:  False\n",
      "Observation:  (96, 96, 3) Reward:  -0.09999999999999432 Done?:  False\n",
      "Observation:  (96, 96, 3) Reward:  -0.09999999999999432 Done?:  False\n",
      "Observation:  (96, 96, 3) Reward:  -0.09999999999999432 Done?:  False\n",
      "Observation:  (96, 96, 3) Reward:  -0.09999999999999432 Done?:  False\n",
      "Observation:  (96, 96, 3) Reward:  -0.09999999999999432 Done?:  False\n",
      "Observation:  (96, 96, 3) Reward:  -0.09999999999999432 Done?:  False\n",
      "Observation:  (96, 96, 3) Reward:  -0.09999999999999432 Done?:  False\n",
      "Observation:  (96, 96, 3) Reward:  -0.09999999999999432 Done?:  False\n",
      "Observation:  (96, 96, 3) Reward:  -0.09999999999999432 Done?:  False\n",
      "Observation:  (96, 96, 3) Reward:  -0.09999999999999432 Done?:  False\n",
      "Observation:  (96, 96, 3) Reward:  -0.09999999999999432 Done?:  False\n",
      "Observation:  (96, 96, 3) Reward:  -0.09999999999999432 Done?:  False\n",
      "Observation:  (96, 96, 3) Reward:  -0.09999999999999432 Done?:  False\n",
      "Observation:  (96, 96, 3) Reward:  -0.09999999999999432 Done?:  False\n",
      "Observation:  (96, 96, 3) Reward:  -0.09999999999999432 Done?:  False\n",
      "Observation:  (96, 96, 3) Reward:  -0.09999999999999432 Done?:  False\n",
      "Observation:  (96, 96, 3) Reward:  -0.09999999999999432 Done?:  False\n",
      "Observation:  (96, 96, 3) Reward:  -0.09999999999999432 Done?:  False\n",
      "Observation:  (96, 96, 3) Reward:  -0.09999999999999432 Done?:  False\n",
      "Observation:  (96, 96, 3) Reward:  -0.09999999999999432 Done?:  False\n",
      "Observation:  (96, 96, 3) Reward:  -0.09999999999999432 Done?:  False\n",
      "Observation:  (96, 96, 3) Reward:  -0.09999999999999432 Done?:  False\n",
      "Observation:  (96, 96, 3) Reward:  -0.09999999999999432 Done?:  False\n",
      "Observation:  (96, 96, 3) Reward:  -0.09999999999999432 Done?:  False\n",
      "Observation:  (96, 96, 3) Reward:  -0.09999999999999432 Done?:  False\n",
      "Observation:  (96, 96, 3) Reward:  -0.09999999999999432 Done?:  False\n",
      "Observation:  (96, 96, 3) Reward:  -0.09999999999999432 Done?:  False\n",
      "Observation:  (96, 96, 3) Reward:  -0.09999999999999432 Done?:  False\n",
      "Observation:  (96, 96, 3) Reward:  -0.09999999999999432 Done?:  False\n",
      "Observation:  (96, 96, 3) Reward:  -0.09999999999999432 Done?:  False\n",
      "Observation:  (96, 96, 3) Reward:  -0.09999999999999432 Done?:  False\n",
      "Observation:  (96, 96, 3) Reward:  -0.09999999999999432 Done?:  False\n",
      "Observation:  (96, 96, 3) Reward:  -0.09999999999999432 Done?:  False\n",
      "Observation:  (96, 96, 3) Reward:  -0.09999999999999432 Done?:  False\n",
      "Observation:  (96, 96, 3) Reward:  -0.09999999999999432 Done?:  False\n",
      "Observation:  (96, 96, 3) Reward:  -0.09999999999999432 Done?:  False\n",
      "Observation:  (96, 96, 3) Reward:  -0.09999999999999432 Done?:  False\n",
      "Observation:  (96, 96, 3) Reward:  -0.09999999999999432 Done?:  False\n",
      "Observation:  (96, 96, 3) Reward:  -0.09999999999999432 Done?:  False\n",
      "Observation:  (96, 96, 3) Reward:  -0.09999999999999432 Done?:  False\n",
      "Observation:  (96, 96, 3) Reward:  -0.09999999999999432 Done?:  False\n",
      "Observation:  (96, 96, 3) Reward:  -0.09999999999999432 Done?:  False\n",
      "Observation:  (96, 96, 3) Reward:  -0.09999999999999432 Done?:  False\n",
      "Observation:  (96, 96, 3) Reward:  -0.09999999999999432 Done?:  False\n",
      "Observation:  (96, 96, 3) Reward:  -0.09999999999999432 Done?:  False\n",
      "Observation:  (96, 96, 3) Reward:  -0.09999999999999432 Done?:  False\n",
      "Observation:  (96, 96, 3) Reward:  -0.09999999999999432 Done?:  False\n",
      "Observation:  (96, 96, 3) Reward:  -0.09999999999999432 Done?:  False\n",
      "Observation:  (96, 96, 3) Reward:  -0.09999999999999432 Done?:  False\n",
      "Observation:  (96, 96, 3) Reward:  -0.09999999999999432 Done?:  False\n",
      "Observation:  (96, 96, 3) Reward:  -0.09999999999999432 Done?:  False\n",
      "Observation:  (96, 96, 3) Reward:  -0.09999999999999432 Done?:  False\n",
      "Observation:  (96, 96, 3) Reward:  -0.09999999999999432 Done?:  False\n",
      "Observation:  (96, 96, 3) Reward:  -0.09999999999999432 Done?:  False\n",
      "Observation:  (96, 96, 3) Reward:  -0.09999999999999432 Done?:  False\n",
      "Observation:  (96, 96, 3) Reward:  -0.09999999999999432 Done?:  False\n",
      "Observation:  (96, 96, 3) Reward:  -0.09999999999999432 Done?:  False\n",
      "Observation:  (96, 96, 3) Reward:  -0.09999999999999432 Done?:  False\n",
      "Observation:  (96, 96, 3) Reward:  -0.09999999999999432 Done?:  False\n",
      "Observation:  (96, 96, 3) Reward:  -0.09999999999999432 Done?:  False\n"
     ]
    },
    {
     "name": "stdout",
     "output_type": "stream",
     "text": [
      "Observation:  (96, 96, 3) Reward:  -0.09999999999999432 Done?:  False\n",
      "Observation:  (96, 96, 3) Reward:  -0.09999999999999432 Done?:  False\n",
      "Observation:  (96, 96, 3) Reward:  -0.09999999999999432 Done?:  False\n",
      "Observation:  (96, 96, 3) Reward:  -0.09999999999999432 Done?:  False\n",
      "Observation:  (96, 96, 3) Reward:  -0.09999999999999432 Done?:  False\n",
      "Observation:  (96, 96, 3) Reward:  -0.09999999999999432 Done?:  False\n",
      "Observation:  (96, 96, 3) Reward:  -0.09999999999999432 Done?:  False\n",
      "Observation:  (96, 96, 3) Reward:  -0.09999999999999432 Done?:  False\n",
      "Observation:  (96, 96, 3) Reward:  -0.09999999999999432 Done?:  False\n",
      "Observation:  (96, 96, 3) Reward:  -0.09999999999999432 Done?:  False\n",
      "Observation:  (96, 96, 3) Reward:  -0.09999999999999432 Done?:  False\n",
      "Observation:  (96, 96, 3) Reward:  -0.09999999999999432 Done?:  False\n"
     ]
    }
   ],
   "source": [
    "total_reward = 0\n",
    "\n",
    "# Outer loop is for multiple simulations/Episodes (increase for learning over a long time)\n",
    "for i in range(1):\n",
    "    env.reset() # Reset to start a new simulation\n",
    "    \n",
    "    # Inner loop for simulating the environment:\n",
    "    # 1. Observe 2. Take action 3. Read reward 4. Learn 1. Observe ...\n",
    "    for i in range(2000):\n",
    "        env.render() # For seeing the simulation step\n",
    "        \n",
    "        \"\"\"--------------------------------------------\"\"\"\n",
    "        \"\"\"YOUR ALGORITHM GOES HERE.\n",
    "        YOU CAN IMPORT YOUR CODE OR WRITE IT HERE DIRECTLY\n",
    "        HERE IS AN EXAMPLE\"\"\"\n",
    "        \"\"\"\n",
    "        prev_obs = observation\n",
    "        if np.random.random() > 0.5:\n",
    "            action = model.best_action(to_num(prev_obs))\n",
    "            observation, reward, done, info = env.step(actions[action])\n",
    "        else:\n",
    "            action = np.random.randint(1, 20)\n",
    "            observation, reward, done, info = env.step(actions[action])\n",
    "        \n",
    "        model.learn(action, prev_obs, reward)\n",
    "        \"\"\"\n",
    "        \n",
    "        \"\"\"--------------------------------------------\"\"\"\n",
    "            \n",
    "        # Pring the observations, rewards, whether the round has ended\n",
    "        print(\"Observation: \", observation.shape,\n",
    "              \"Reward: \", reward,\n",
    "              \"Done?: \", done)\n",
    "        \n",
    "        if i < 2000: # Calculate reward for only first 2000 episodes\n",
    "            total_reward += reward\n",
    "        \n",
    "        if done: # Car steered off stop the simulation and restart it\n",
    "            break\n",
    "            \n",
    "    model.save()"
   ]
  },
  {
   "cell_type": "code",
   "execution_count": 13,
   "metadata": {},
   "outputs": [
    {
     "name": "stdout",
     "output_type": "stream",
     "text": [
      "-68.37943925233684\n"
     ]
    }
   ],
   "source": [
    "print(total_reward)"
   ]
  },
  {
   "cell_type": "markdown",
   "metadata": {},
   "source": [
    "# Close"
   ]
  },
  {
   "cell_type": "code",
   "execution_count": 26,
   "metadata": {},
   "outputs": [],
   "source": [
    "# Drop the resources for the environment\n",
    "env.env.close()"
   ]
  },
  {
   "cell_type": "markdown",
   "metadata": {},
   "source": [
    "# General Advice\n",
    "\n",
    "* You can ask the hackathon hero for help, but not too much :)\n",
    "* Please don't to cheat too much :)\n",
    "* Please fork don’t clone on the day\n",
    "* Organise your collaboration and learn about the subject at the start \n",
    "* Maybe start simple (even without machine learning) and then employ machine learning\n",
    "* Check the car racing env page on AI gym to remember the reward and observation structure https://gym.openai.com/envs/CarRacing-v0/"
   ]
  },
  {
   "cell_type": "markdown",
   "metadata": {},
   "source": [
    "# The Observation\n",
    "\n",
    "* Here we plot the observation to hint to its content"
   ]
  },
  {
   "cell_type": "code",
   "execution_count": 43,
   "metadata": {},
   "outputs": [],
   "source": [
    "import numpy as np"
   ]
  },
  {
   "cell_type": "code",
   "execution_count": 82,
   "metadata": {},
   "outputs": [],
   "source": [
    "def discrete(elem):\n",
    "    res = [0]\n",
    "    am = np.argmax(elem)\n",
    "    if am < 1:\n",
    "        res[0] = 1\n",
    "    return res"
   ]
  },
  {
   "cell_type": "code",
   "execution_count": 152,
   "metadata": {},
   "outputs": [],
   "source": [
    "def binarize(obs):\n",
    "    # Binarize\n",
    "    res = ds = np.array(\n",
    "        list(\n",
    "            map(discrete, obs.reshape(96 * 96, 3))\n",
    "        )\n",
    "    ).reshape(96, 96, 1)\n",
    "    \n",
    "    res = res[15:-15, 15:-15, :]\n",
    "    \n",
    "    # Downsample\n",
    "    acc = res[0::22, 0::22, 0]\n",
    "    for i in range(1,22):\n",
    "        for j in range(1,22):\n",
    "            acc += res[i::22, j::22, 0]\n",
    "    \n",
    "    acc = (acc / (22 * 22)) > 0.3\n",
    "\n",
    "    #acc = acc[:-1,:]\n",
    "    \n",
    "    return np.array(acc, dtype=int)"
   ]
  },
  {
   "cell_type": "code",
   "execution_count": 153,
   "metadata": {},
   "outputs": [
    {
     "data": {
      "text/plain": [
       "array([[1, 0, 0],\n",
       "       [1, 0, 0],\n",
       "       [1, 0, 0]])"
      ]
     },
     "execution_count": 153,
     "metadata": {},
     "output_type": "execute_result"
    }
   ],
   "source": [
    "binarize(observation)"
   ]
  },
  {
   "cell_type": "code",
   "execution_count": 77,
   "metadata": {},
   "outputs": [
    {
     "data": {
      "image/png": "[encoded data removed]",
      "text/plain": [
       "<Figure size 2520x2520 with 1 Axes>"
      ]
     },
     "metadata": {
      "needs_background": "light"
     },
     "output_type": "display_data"
    }
   ],
   "source": [
    "import matplotlib.pyplot as plt\n",
    "plt.figure(figsize=(35, 35))\n",
    "plt.imshow(binarize(observation), interpolation='nearest')\n",
    "plt.show()"
   ]
  },
  {
   "cell_type": "code",
   "execution_count": null,
   "metadata": {},
   "outputs": [],
   "source": []
  }
 ],
 "metadata": {
  "kernelspec": {
   "display_name": "Python 3",
   "language": "python",
   "name": "python3"
  }
 },
 "nbformat": 4,
 "nbformat_minor": 2
}
